{
 "cells": [
  {
   "cell_type": "code",
   "execution_count": 12,
   "id": "aa6b9bf9",
   "metadata": {},
   "outputs": [],
   "source": [
    "import cv2\n",
    "import glob\n",
    "import numpy as np\n",
    "\n",
    "path = \"C:/Users/mdzid/Documents/datamining/segment/Original Dataset/Downy Mildew/*.jpg\"\n",
    "for bb,file in enumerate (glob.glob(path)):\n",
    "    img = cv2.imread(file)   \n",
    "    Z = img.reshape((-1,3))\n",
    "    Z = np.float32(Z)\n",
    "    criteria = (cv2.TERM_CRITERIA_EPS + cv2.TERM_CRITERIA_MAX_ITER, 10, 1.0)\n",
    "    K = 3\n",
    "    ret,label,center=cv2.kmeans(Z,K,None,criteria,10,cv2.KMEANS_RANDOM_CENTERS)\n",
    "    center = np.uint8(center)\n",
    "    res = center[label.flatten()]\n",
    "    res2 = res.reshape((img.shape))\n",
    "    cv2.imwrite('C:/Users/mdzid/Documents/datamining/segment/dm/segmented{}.jpg'.format(bb), res2)\n",
    "    k = cv2.waitKey(1000)"
   ]
  },
  {
   "cell_type": "code",
   "execution_count": 4,
   "id": "8c9df9d5",
   "metadata": {},
   "outputs": [],
   "source": [
    "\n",
    " "
   ]
  },
  {
   "cell_type": "code",
   "execution_count": null,
   "id": "f6115cd5",
   "metadata": {},
   "outputs": [],
   "source": []
  }
 ],
 "metadata": {
  "kernelspec": {
   "display_name": "Python 3 (ipykernel)",
   "language": "python",
   "name": "python3"
  },
  "language_info": {
   "codemirror_mode": {
    "name": "ipython",
    "version": 3
   },
   "file_extension": ".py",
   "mimetype": "text/x-python",
   "name": "python",
   "nbconvert_exporter": "python",
   "pygments_lexer": "ipython3",
   "version": "3.11.5"
  }
 },
 "nbformat": 4,
 "nbformat_minor": 5
}
