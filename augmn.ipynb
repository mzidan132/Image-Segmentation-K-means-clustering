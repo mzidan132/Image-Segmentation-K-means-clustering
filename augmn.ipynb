{
 "cells": [
  {
   "cell_type": "code",
   "execution_count": 6,
   "metadata": {},
   "outputs": [],
   "source": [
    "from keras.preprocessing.image import ImageDataGenerator, array_to_img, img_to_array, load_img\n",
    "from PIL import ImageEnhance\n",
    "import os\n",
    "\n",
    "# Path to the folder containing your images\n",
    "folder_path = 'C:/Users/mdzid/Documents/segment/original/Black Spot/'\n",
    "\n",
    "# Create an ImageDataGenerator with augmentation parameters\n",
    "datagen = ImageDataGenerator(\n",
    "    rescale = 1./255,\n",
    "    rotation_range=20,\n",
    "    vertical_flip=True,\n",
    "    horizontal_flip=True,\n",
    "    height_shift_range=0.1,\n",
    "    width_shift_range =0.1,\n",
    "    zoom_range=0.1,\n",
    "    shear_range=0.1,\n",
    "    brightness_range=[0.2,1.2],\n",
    "    fill_mode = 'nearest'\n",
    ")\n",
    "\n",
    "# Loop through all images in the folder\n",
    "for filename in os.listdir(folder_path):\n",
    "    if filename.endswith(\".jpg\"):  # assuming all images are JPEG files\n",
    "        # Load an image from the folder\n",
    "        img = load_img(os.path.join(folder_path, filename))\n",
    "\n",
    "        # Convert image to array\n",
    "        x = img_to_array(img)\n",
    "        x = x.reshape((1,) + x.shape)\n",
    "\n",
    "        # Generate augmented images and save to a directory\n",
    "        i = 0\n",
    "        for batch in datagen.flow(x, batch_size=1, save_to_dir='data', save_prefix=filename.split('.')[0], save_format='jpg'):\n",
    "            i += 1\n",
    "            if i >= 1:\n",
    "                break  # limit the number of augmented images per original image\n",
    "\n",
    "      "
   ]
  },
  {
   "cell_type": "code",
   "execution_count": null,
   "metadata": {},
   "outputs": [],
   "source": []
  },
  {
   "cell_type": "code",
   "execution_count": null,
   "metadata": {},
   "outputs": [],
   "source": []
  }
 ],
 "metadata": {
  "colab": {
   "provenance": []
  },
  "kernelspec": {
   "display_name": "Python 3 (ipykernel)",
   "language": "python",
   "name": "python3"
  },
  "language_info": {
   "codemirror_mode": {
    "name": "ipython",
    "version": 3
   },
   "file_extension": ".py",
   "mimetype": "text/x-python",
   "name": "python",
   "nbconvert_exporter": "python",
   "pygments_lexer": "ipython3",
   "version": "3.11.5"
  }
 },
 "nbformat": 4,
 "nbformat_minor": 1
}
